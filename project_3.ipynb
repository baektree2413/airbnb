{
 "cells": [
  {
   "cell_type": "markdown",
   "id": "217b21c6",
   "metadata": {},
   "source": [
    "전처리\n"
   ]
  },
  {
   "cell_type": "code",
   "execution_count": 155,
   "id": "04c7bb0a",
   "metadata": {},
   "outputs": [],
   "source": [
    "#한글 깨지는 것 방지\n",
    "\n",
    "# 한글 폰트 설정 (윈도우 기준: 맑은 고딕)\n",
    "plt.rc('font', family='Malgun Gothic')\n",
    "\n",
    "# 음수 깨짐 방지\n",
    "plt.rcParams['axes.unicode_minus'] = False"
   ]
  },
  {
   "cell_type": "code",
   "execution_count": 156,
   "id": "4e935b51",
   "metadata": {},
   "outputs": [],
   "source": [
    "# 데이터 처리\n",
    "import pandas as pd\n",
    "import numpy as np\n",
    "\n",
    "# 시각화\n",
    "import matplotlib.pyplot as plt\n",
    "import seaborn as sns\n",
    "\n",
    "# 통계\n",
    "import scipy.stats as stats\n",
    "\n",
    "# 머신러닝 (전처리, 모델링, 평가)\n",
    "from sklearn.model_selection import train_test_split, cross_val_score\n",
    "from sklearn.preprocessing import StandardScaler, MinMaxScaler, LabelEncoder, OneHotEncoder\n",
    "from sklearn.linear_model import LinearRegression, LogisticRegression\n",
    "from sklearn.tree import DecisionTreeClassifier, DecisionTreeRegressor\n",
    "from sklearn.ensemble import RandomForestClassifier, RandomForestRegressor\n",
    "from sklearn.metrics import mean_squared_error, accuracy_score, confusion_matrix, classification_report\n"
   ]
  },
  {
   "cell_type": "code",
   "execution_count": 157,
   "id": "5a75f0fd",
   "metadata": {},
   "outputs": [
    {
     "data": {
      "text/html": [
       "<div>\n",
       "<style scoped>\n",
       "    .dataframe tbody tr th:only-of-type {\n",
       "        vertical-align: middle;\n",
       "    }\n",
       "\n",
       "    .dataframe tbody tr th {\n",
       "        vertical-align: top;\n",
       "    }\n",
       "\n",
       "    .dataframe thead th {\n",
       "        text-align: right;\n",
       "    }\n",
       "</style>\n",
       "<table border=\"1\" class=\"dataframe\">\n",
       "  <thead>\n",
       "    <tr style=\"text-align: right;\">\n",
       "      <th></th>\n",
       "      <th>number_of_reviews</th>\n",
       "      <th>reviews_per_month</th>\n",
       "      <th>review_scores_rating</th>\n",
       "      <th>review_scores_cleanliness</th>\n",
       "      <th>review_scores_communication</th>\n",
       "      <th>first_review</th>\n",
       "      <th>last_review</th>\n",
       "    </tr>\n",
       "  </thead>\n",
       "  <tbody>\n",
       "    <tr>\n",
       "      <th>0</th>\n",
       "      <td>9</td>\n",
       "      <td>0.05</td>\n",
       "      <td>4.88</td>\n",
       "      <td>4.80</td>\n",
       "      <td>5.0</td>\n",
       "      <td>2010-12-11</td>\n",
       "      <td>2013-05-10</td>\n",
       "    </tr>\n",
       "    <tr>\n",
       "      <th>1</th>\n",
       "      <td>102</td>\n",
       "      <td>0.58</td>\n",
       "      <td>4.77</td>\n",
       "      <td>4.76</td>\n",
       "      <td>4.9</td>\n",
       "      <td>2010-10-04</td>\n",
       "      <td>2023-12-09</td>\n",
       "    </tr>\n",
       "  </tbody>\n",
       "</table>\n",
       "</div>"
      ],
      "text/plain": [
       "   number_of_reviews  reviews_per_month  review_scores_rating  \\\n",
       "0                  9               0.05                  4.88   \n",
       "1                102               0.58                  4.77   \n",
       "\n",
       "   review_scores_cleanliness  review_scores_communication first_review  \\\n",
       "0                       4.80                          5.0   2010-12-11   \n",
       "1                       4.76                          4.9   2010-10-04   \n",
       "\n",
       "  last_review  \n",
       "0  2013-05-10  \n",
       "1  2023-12-09  "
      ]
     },
     "execution_count": 157,
     "metadata": {},
     "output_type": "execute_result"
    }
   ],
   "source": [
    "#파일 가져오기\n",
    "df = pd.read_csv('2025_Airbnb_NYC_listings.csv')  # 업로드한 파일명 그대로 입력\n",
    "df.head(5)\n",
    "\n",
    "#호스트 관련 컬럼\n",
    "host_related_columns = [\n",
    "    'host_id',\n",
    "    'host_name',\n",
    "    'host_since',\n",
    "    'host_location',\n",
    "    'host_response_time',\n",
    "    'host_response_rate',\n",
    "    'host_acceptance_rate',\n",
    "    'host_is_superhost',\n",
    "    'host_listings_count',\n",
    "    'host_identity_verified'\n",
    "    ]\n",
    "\n",
    "host_df = df[host_related_columns]\n",
    "host_df\n",
    "\n",
    "\n",
    "#위치 관련 place_df\n",
    "place_df = df.copy()\n",
    "place_related_columns = [\n",
    "    'neighbourhood',\n",
    "    'neighbourhood_group_cleansed',\n",
    "    'latitude',\n",
    "    'longitude'\n",
    "    ]\n",
    "place_df = df[place_related_columns]\n",
    "place_df\n",
    "\n",
    "#숙소 정보 관련 info_df\n",
    "information_related_columns = [\n",
    "    'property_type',\n",
    "    'room_type',\n",
    "    'accommodates',\n",
    "    'bedrooms',\n",
    "    'beds',\n",
    "    'bathrooms',\n",
    "    'amenities']\n",
    "info_df = df[information_related_columns]\n",
    "info_df.head(2)\n",
    "\n",
    "#가격 및 예약 관련 컬럼 price_df\n",
    "price_related_columns = [\n",
    "    'price',\n",
    "    'minimum_nights',\n",
    "    'maximum_nights',\n",
    "    'availability_365',\n",
    "    'instant_bookable'\n",
    "\n",
    "]\n",
    "price_df = df[price_related_columns]\n",
    "price_df.head(2)\n",
    "\n",
    "#리뷰 및 평점 관련 review_df\n",
    "review_related_columns = [\n",
    "    'number_of_reviews',\n",
    "    'reviews_per_month',\n",
    "    'review_scores_rating',\n",
    "    'review_scores_cleanliness',\n",
    "    'review_scores_communication',\n",
    "    'first_review',\n",
    "    'last_review'\n",
    "]\n",
    "\n",
    "review_df = df[review_related_columns]\n",
    "review_df.head(2)"
   ]
  },
  {
   "cell_type": "code",
   "execution_count": 158,
   "id": "e60d1f08",
   "metadata": {},
   "outputs": [],
   "source": [
    "df = pd.concat([host_df, place_df, info_df, price_df, review_df], axis=1)\n"
   ]
  },
  {
   "cell_type": "code",
   "execution_count": 159,
   "id": "85138e99",
   "metadata": {},
   "outputs": [],
   "source": [
    "df\n",
    "df_backup = df.copy()"
   ]
  },
  {
   "cell_type": "code",
   "execution_count": 160,
   "id": "bf3c7067",
   "metadata": {},
   "outputs": [
    {
     "data": {
      "text/plain": [
       "room_type        0\n",
       "accommodates     0\n",
       "bedrooms        49\n",
       "beds            79\n",
       "bathrooms        6\n",
       "amenities        0\n",
       "dtype: int64"
      ]
     },
     "execution_count": 160,
     "metadata": {},
     "output_type": "execute_result"
    }
   ],
   "source": [
    "df[['room_type', 'accommodates', 'bedrooms', 'beds', 'bathrooms', 'amenities']].isnull().sum()"
   ]
  },
  {
   "cell_type": "code",
   "execution_count": 161,
   "id": "9957f927",
   "metadata": {},
   "outputs": [
    {
     "data": {
      "text/plain": [
       "room_type       0.000000\n",
       "accommodates    0.000000\n",
       "bedrooms        0.002197\n",
       "beds            0.003541\n",
       "bathrooms       0.000269\n",
       "amenities       0.000000\n",
       "dtype: float64"
      ]
     },
     "execution_count": 161,
     "metadata": {},
     "output_type": "execute_result"
    }
   ],
   "source": [
    "df[['room_type', 'accommodates', 'bedrooms', 'beds', 'bathrooms', 'amenities']].isnull().mean()"
   ]
  },
  {
   "cell_type": "code",
   "execution_count": 162,
   "id": "1ab83b12",
   "metadata": {},
   "outputs": [],
   "source": [
    "dummies = pd.get_dummies(df['room_type'], prefix='room_type', drop_first=True)\n",
    "df = pd.concat([df, dummies], axis=1)"
   ]
  },
  {
   "cell_type": "markdown",
   "id": "2a49aa54",
   "metadata": {},
   "source": [
    "이상치 확인"
   ]
  },
  {
   "cell_type": "code",
   "execution_count": 163,
   "id": "ca03d95e",
   "metadata": {},
   "outputs": [
    {
     "data": {
      "image/png": "[encoded data removed]",
      "text/plain": [
       "<Figure size 640x480 with 1 Axes>"
      ]
     },
     "metadata": {},
     "output_type": "display_data"
    }
   ],
   "source": [
    "##QQplot 데이터가 대각선에 가까우면 정규분포에 가까움. \n",
    "import scipy.stats as stats\n",
    "import matplotlib.pyplot as plt\n",
    "\n",
    "stats.probplot(df['bathrooms'], dist=\"norm\", plot=plt)\n",
    "plt.show()"
   ]
  },
  {
   "cell_type": "code",
   "execution_count": 164,
   "id": "f99300ac",
   "metadata": {},
   "outputs": [
    {
     "data": {
      "image/png": "[encoded data removed]",
      "text/plain": [
       "<Figure size 640x480 with 1 Axes>"
      ]
     },
     "metadata": {},
     "output_type": "display_data"
    }
   ],
   "source": [
    "#박스플롯 그려보기\n",
    "import seaborn as sns\n",
    "import matplotlib.pyplot as plt\n",
    "\n",
    "sns.boxplot(x=df['bathrooms'])\n",
    "plt.title('Boxplot')\n",
    "plt.show()"
   ]
  },
  {
   "cell_type": "code",
   "execution_count": 165,
   "id": "c5f41195",
   "metadata": {},
   "outputs": [
    {
     "data": {
      "image/png": "[encoded data removed]",
      "text/plain": [
       "<Figure size 640x480 with 1 Axes>"
      ]
     },
     "metadata": {},
     "output_type": "display_data"
    }
   ],
   "source": [
    "plt.hist(df['bathrooms'])\n",
    "plt.title('Histogram')\n",
    "plt.xlabel('Number')\n",
    "plt.ylabel('Frequency')\n",
    "plt.show()"
   ]
  },
  {
   "cell_type": "code",
   "execution_count": 166,
   "id": "d433bd29",
   "metadata": {},
   "outputs": [
    {
     "name": "stdout",
     "output_type": "stream",
     "text": [
      "이상치 개수: 0\n",
      "전체 대비 비율 : 0.00%\n"
     ]
    }
   ],
   "source": [
    "#Z스코어통해 이상치 확인\n",
    "from scipy import stats\n",
    "z_scores = np.abs(stats.zscore(df['bathrooms']))\n",
    "\n",
    "outlier_mask = z_scores > 3\n",
    "\n",
    "num_outliers = outlier_mask.sum()\n",
    "\n",
    "total = len(df)\n",
    "\n",
    "ratio = num_outliers / total * 100\n",
    "\n",
    "print(f\"이상치 개수: {num_outliers}\")\n",
    "print(f\"전체 대비 비율 : {ratio:.2f}%\")\n",
    "\n"
   ]
  },
  {
   "cell_type": "code",
   "execution_count": 167,
   "id": "e39fde4f",
   "metadata": {},
   "outputs": [
    {
     "name": "stdout",
     "output_type": "stream",
     "text": [
      "bathrooms 이상치 기준 하한선: 1.0\n",
      "bathrooms 이상치 기준 상한선: 1.0\n"
     ]
    }
   ],
   "source": [
    "#iqr 기준으로 이상치 탐지\n",
    "target = 'bathrooms'\n",
    "Q1 = df[target].quantile(0.25)\n",
    "Q3 = df[target].quantile(0.75)\n",
    "IQR = Q3 - Q1\n",
    "\n",
    "lower_bound = Q1 + 1.5 * IQR\n",
    "upper_bound = Q3 + 1.5 * IQR\n",
    "print(f\"{target} 이상치 기준 하한선: {lower_bound}\")\n",
    "print(f\"{target} 이상치 기준 상한선: {upper_bound}\")"
   ]
  },
  {
   "cell_type": "code",
   "execution_count": 168,
   "id": "79fc2655",
   "metadata": {},
   "outputs": [],
   "source": [
    "# 이상치 데이터만 따로 df_outliers로 만들기\n",
    "df_outliers = df[outlier_mask]"
   ]
  },
  {
   "cell_type": "code",
   "execution_count": 169,
   "id": "dc221f2a",
   "metadata": {},
   "outputs": [
    {
     "data": {
      "text/html": [
       "<div>\n",
       "<style scoped>\n",
       "    .dataframe tbody tr th:only-of-type {\n",
       "        vertical-align: middle;\n",
       "    }\n",
       "\n",
       "    .dataframe tbody tr th {\n",
       "        vertical-align: top;\n",
       "    }\n",
       "\n",
       "    .dataframe thead th {\n",
       "        text-align: right;\n",
       "    }\n",
       "</style>\n",
       "<table border=\"1\" class=\"dataframe\">\n",
       "  <thead>\n",
       "    <tr style=\"text-align: right;\">\n",
       "      <th></th>\n",
       "      <th>accommodates</th>\n",
       "      <th>bedrooms</th>\n",
       "      <th>beds</th>\n",
       "      <th>property_type</th>\n",
       "      <th>room_type</th>\n",
       "      <th>price</th>\n",
       "    </tr>\n",
       "  </thead>\n",
       "  <tbody>\n",
       "  </tbody>\n",
       "</table>\n",
       "</div>"
      ],
      "text/plain": [
       "Empty DataFrame\n",
       "Columns: [accommodates, bedrooms, beds, property_type, room_type, price]\n",
       "Index: []"
      ]
     },
     "execution_count": 169,
     "metadata": {},
     "output_type": "execute_result"
    }
   ],
   "source": [
    "# 이상치 행 구체적으로 확인\n",
    "df_outliers[['accommodates', 'bedrooms', 'beds', 'property_type', 'room_type', 'price']]"
   ]
  },
  {
   "cell_type": "code",
   "execution_count": 170,
   "id": "50cb0778",
   "metadata": {},
   "outputs": [
    {
     "data": {
      "text/html": [
       "<div>\n",
       "<style scoped>\n",
       "    .dataframe tbody tr th:only-of-type {\n",
       "        vertical-align: middle;\n",
       "    }\n",
       "\n",
       "    .dataframe tbody tr th {\n",
       "        vertical-align: top;\n",
       "    }\n",
       "\n",
       "    .dataframe thead th {\n",
       "        text-align: right;\n",
       "    }\n",
       "</style>\n",
       "<table border=\"1\" class=\"dataframe\">\n",
       "  <thead>\n",
       "    <tr style=\"text-align: right;\">\n",
       "      <th></th>\n",
       "      <th>bedrooms</th>\n",
       "      <th>beds</th>\n",
       "      <th>bathrooms</th>\n",
       "    </tr>\n",
       "  </thead>\n",
       "  <tbody>\n",
       "    <tr>\n",
       "      <th>count</th>\n",
       "      <td>22259.000000</td>\n",
       "      <td>22229.000000</td>\n",
       "      <td>22302.000000</td>\n",
       "    </tr>\n",
       "    <tr>\n",
       "      <th>mean</th>\n",
       "      <td>1.315468</td>\n",
       "      <td>1.646318</td>\n",
       "      <td>1.192897</td>\n",
       "    </tr>\n",
       "    <tr>\n",
       "      <th>std</th>\n",
       "      <td>0.918378</td>\n",
       "      <td>1.200619</td>\n",
       "      <td>0.556670</td>\n",
       "    </tr>\n",
       "    <tr>\n",
       "      <th>min</th>\n",
       "      <td>0.000000</td>\n",
       "      <td>0.000000</td>\n",
       "      <td>0.000000</td>\n",
       "    </tr>\n",
       "    <tr>\n",
       "      <th>25%</th>\n",
       "      <td>1.000000</td>\n",
       "      <td>1.000000</td>\n",
       "      <td>1.000000</td>\n",
       "    </tr>\n",
       "    <tr>\n",
       "      <th>50%</th>\n",
       "      <td>1.000000</td>\n",
       "      <td>1.000000</td>\n",
       "      <td>1.000000</td>\n",
       "    </tr>\n",
       "    <tr>\n",
       "      <th>75%</th>\n",
       "      <td>2.000000</td>\n",
       "      <td>2.000000</td>\n",
       "      <td>1.000000</td>\n",
       "    </tr>\n",
       "    <tr>\n",
       "      <th>max</th>\n",
       "      <td>15.000000</td>\n",
       "      <td>42.000000</td>\n",
       "      <td>15.500000</td>\n",
       "    </tr>\n",
       "  </tbody>\n",
       "</table>\n",
       "</div>"
      ],
      "text/plain": [
       "           bedrooms          beds     bathrooms\n",
       "count  22259.000000  22229.000000  22302.000000\n",
       "mean       1.315468      1.646318      1.192897\n",
       "std        0.918378      1.200619      0.556670\n",
       "min        0.000000      0.000000      0.000000\n",
       "25%        1.000000      1.000000      1.000000\n",
       "50%        1.000000      1.000000      1.000000\n",
       "75%        2.000000      2.000000      1.000000\n",
       "max       15.000000     42.000000     15.500000"
      ]
     },
     "execution_count": 170,
     "metadata": {},
     "output_type": "execute_result"
    }
   ],
   "source": [
    "df[['bedrooms', 'beds', 'bathrooms']].describe()"
   ]
  },
  {
   "cell_type": "code",
   "execution_count": 171,
   "id": "1d31db60",
   "metadata": {},
   "outputs": [
    {
     "data": {
      "text/html": [
       "<div>\n",
       "<style scoped>\n",
       "    .dataframe tbody tr th:only-of-type {\n",
       "        vertical-align: middle;\n",
       "    }\n",
       "\n",
       "    .dataframe tbody tr th {\n",
       "        vertical-align: top;\n",
       "    }\n",
       "\n",
       "    .dataframe thead th {\n",
       "        text-align: right;\n",
       "    }\n",
       "</style>\n",
       "<table border=\"1\" class=\"dataframe\">\n",
       "  <thead>\n",
       "    <tr style=\"text-align: right;\">\n",
       "      <th></th>\n",
       "      <th>host_id</th>\n",
       "      <th>host_name</th>\n",
       "      <th>host_since</th>\n",
       "      <th>host_location</th>\n",
       "      <th>host_response_time</th>\n",
       "      <th>host_response_rate</th>\n",
       "      <th>host_acceptance_rate</th>\n",
       "      <th>host_is_superhost</th>\n",
       "      <th>host_listings_count</th>\n",
       "      <th>host_identity_verified</th>\n",
       "      <th>...</th>\n",
       "      <th>number_of_reviews</th>\n",
       "      <th>reviews_per_month</th>\n",
       "      <th>review_scores_rating</th>\n",
       "      <th>review_scores_cleanliness</th>\n",
       "      <th>review_scores_communication</th>\n",
       "      <th>first_review</th>\n",
       "      <th>last_review</th>\n",
       "      <th>room_type_Hotel room</th>\n",
       "      <th>room_type_Private room</th>\n",
       "      <th>room_type_Shared room</th>\n",
       "    </tr>\n",
       "  </thead>\n",
       "  <tbody>\n",
       "  </tbody>\n",
       "</table>\n",
       "<p>0 rows × 36 columns</p>\n",
       "</div>"
      ],
      "text/plain": [
       "Empty DataFrame\n",
       "Columns: [host_id, host_name, host_since, host_location, host_response_time, host_response_rate, host_acceptance_rate, host_is_superhost, host_listings_count, host_identity_verified, neighbourhood, neighbourhood_group_cleansed, latitude, longitude, property_type, room_type, accommodates, bedrooms, beds, bathrooms, amenities, price, minimum_nights, maximum_nights, availability_365, instant_bookable, number_of_reviews, reviews_per_month, review_scores_rating, review_scores_cleanliness, review_scores_communication, first_review, last_review, room_type_Hotel room, room_type_Private room, room_type_Shared room]\n",
       "Index: []\n",
       "\n",
       "[0 rows x 36 columns]"
      ]
     },
     "execution_count": 171,
     "metadata": {},
     "output_type": "execute_result"
    }
   ],
   "source": [
    "df[df['bathrooms'] == 15]"
   ]
  },
  {
   "cell_type": "code",
   "execution_count": 172,
   "id": "39947171",
   "metadata": {},
   "outputs": [
    {
     "data": {
      "text/html": [
       "<div>\n",
       "<style scoped>\n",
       "    .dataframe tbody tr th:only-of-type {\n",
       "        vertical-align: middle;\n",
       "    }\n",
       "\n",
       "    .dataframe tbody tr th {\n",
       "        vertical-align: top;\n",
       "    }\n",
       "\n",
       "    .dataframe thead th {\n",
       "        text-align: right;\n",
       "    }\n",
       "</style>\n",
       "<table border=\"1\" class=\"dataframe\">\n",
       "  <thead>\n",
       "    <tr style=\"text-align: right;\">\n",
       "      <th></th>\n",
       "      <th>host_id</th>\n",
       "      <th>host_name</th>\n",
       "      <th>host_since</th>\n",
       "      <th>host_location</th>\n",
       "      <th>host_response_time</th>\n",
       "      <th>host_response_rate</th>\n",
       "      <th>host_acceptance_rate</th>\n",
       "      <th>host_is_superhost</th>\n",
       "      <th>host_listings_count</th>\n",
       "      <th>host_identity_verified</th>\n",
       "      <th>...</th>\n",
       "      <th>number_of_reviews</th>\n",
       "      <th>reviews_per_month</th>\n",
       "      <th>review_scores_rating</th>\n",
       "      <th>review_scores_cleanliness</th>\n",
       "      <th>review_scores_communication</th>\n",
       "      <th>first_review</th>\n",
       "      <th>last_review</th>\n",
       "      <th>room_type_Hotel room</th>\n",
       "      <th>room_type_Private room</th>\n",
       "      <th>room_type_Shared room</th>\n",
       "    </tr>\n",
       "  </thead>\n",
       "  <tbody>\n",
       "    <tr>\n",
       "      <th>1235</th>\n",
       "      <td>9147223</td>\n",
       "      <td>Pucci,Amanda</td>\n",
       "      <td>2013-09-30</td>\n",
       "      <td>New York, NY</td>\n",
       "      <td>within an hour</td>\n",
       "      <td>100%</td>\n",
       "      <td>100%</td>\n",
       "      <td>f</td>\n",
       "      <td>1.0</td>\n",
       "      <td>t</td>\n",
       "      <td>...</td>\n",
       "      <td>21</td>\n",
       "      <td>0.18</td>\n",
       "      <td>4.86</td>\n",
       "      <td>4.95</td>\n",
       "      <td>5.0</td>\n",
       "      <td>2015-09-29</td>\n",
       "      <td>2024-08-25</td>\n",
       "      <td>False</td>\n",
       "      <td>True</td>\n",
       "      <td>False</td>\n",
       "    </tr>\n",
       "  </tbody>\n",
       "</table>\n",
       "<p>1 rows × 36 columns</p>\n",
       "</div>"
      ],
      "text/plain": [
       "      host_id     host_name  host_since host_location host_response_time  \\\n",
       "1235  9147223  Pucci,Amanda  2013-09-30  New York, NY     within an hour   \n",
       "\n",
       "     host_response_rate host_acceptance_rate host_is_superhost  \\\n",
       "1235               100%                 100%                 f   \n",
       "\n",
       "      host_listings_count host_identity_verified  ... number_of_reviews  \\\n",
       "1235                  1.0                      t  ...                21   \n",
       "\n",
       "     reviews_per_month  review_scores_rating  review_scores_cleanliness  \\\n",
       "1235              0.18                  4.86                       4.95   \n",
       "\n",
       "     review_scores_communication first_review  last_review  \\\n",
       "1235                         5.0   2015-09-29   2024-08-25   \n",
       "\n",
       "      room_type_Hotel room  room_type_Private room  room_type_Shared room  \n",
       "1235                 False                    True                  False  \n",
       "\n",
       "[1 rows x 36 columns]"
      ]
     },
     "execution_count": 172,
     "metadata": {},
     "output_type": "execute_result"
    }
   ],
   "source": [
    "df[(df['bathrooms'] >= 10) & (df['bathrooms'] <= 14)]"
   ]
  },
  {
   "cell_type": "code",
   "execution_count": 173,
   "id": "d75a432e",
   "metadata": {},
   "outputs": [
    {
     "data": {
      "text/plain": [
       "<function matplotlib.pyplot.show(close=None, block=None)>"
      ]
     },
     "execution_count": 173,
     "metadata": {},
     "output_type": "execute_result"
    },
    {
     "data": {
      "image/png": "[encoded data removed]",
      "text/plain": [
       "<Figure size 1000x200 with 1 Axes>"
      ]
     },
     "metadata": {},
     "output_type": "display_data"
    }
   ],
   "source": [
    "import seaborn as sns\n",
    "import matplotlib.pyplot as plt\n",
    "\n",
    "plt.figure(figsize=(10, 2))\n",
    "sns.stripplot(x=df['bathrooms'], alpha=0.5, jitter=True) #jitter=True로 겹침 방지\n",
    "plt.xlabel('bathroom')\n",
    "plt.title('bathroom value distrivution')\n",
    "plt.show"
   ]
  },
  {
   "cell_type": "code",
   "execution_count": 181,
   "id": "4825d9d7",
   "metadata": {},
   "outputs": [
    {
     "name": "stdout",
     "output_type": "stream",
     "text": [
      "전처리 전 데이터 개수: (22308, 33)\n",
      "전처리 후 데이터 개수: (22307, 36)\n",
      "\n",
      " 결과해석 \n",
      " (행1개 삭제) 비상식적으로 bathrooms이 많았던 행 1개 제거 \n",
      " (열3개 추가) room_type 더미변수 3개 추가\n"
     ]
    }
   ],
   "source": [
    "#이상치 제거\n",
    "index_to_drop = df[df['bathrooms'] == 10.5].index\n",
    "df.drop(index=index_to_drop, inplace=True)\n",
    "\n",
    "\n",
    "#전처리 전/후 데이터 개수\n",
    "print(f\"전처리 전 데이터 개수: {df_backup.shape}\")\n",
    "print(f\"전처리 후 데이터 개수: {df.shape}\")\n",
    "print(\"\\n 결과해석 \\n (행1개 삭제) 비상식적으로 bathrooms이 많았던 행 1개 제거 \\n (열3개 추가) room_type 더미변수 3개 추가\")"
   ]
  },
  {
   "cell_type": "markdown",
   "id": "1ca64429",
   "metadata": {},
   "source": [
    "amenities 리스트 요소를 카운팅한 새로운 파생컬럼 만들기"
   ]
  },
  {
   "cell_type": "code",
   "execution_count": 150,
   "id": "648b757e",
   "metadata": {},
   "outputs": [
    {
     "name": "stdout",
     "output_type": "stream",
     "text": [
      "[\"Refrigerator\", \"Dishes and silverware\", \"Wifi\", \"Kitchen\", \"Elevator\", \"City skyline view\", \"Heating\"]\n"
     ]
    }
   ],
   "source": [
    "#4번째 행의 amenities를 볼 수 있음\n",
    "print(df['amenities'].iloc[0])"
   ]
  },
  {
   "cell_type": "code",
   "execution_count": 186,
   "id": "6a8b7f0d",
   "metadata": {},
   "outputs": [
    {
     "data": {
      "text/html": [
       "<div>\n",
       "<style scoped>\n",
       "    .dataframe tbody tr th:only-of-type {\n",
       "        vertical-align: middle;\n",
       "    }\n",
       "\n",
       "    .dataframe tbody tr th {\n",
       "        vertical-align: top;\n",
       "    }\n",
       "\n",
       "    .dataframe thead th {\n",
       "        text-align: right;\n",
       "    }\n",
       "</style>\n",
       "<table border=\"1\" class=\"dataframe\">\n",
       "  <thead>\n",
       "    <tr style=\"text-align: right;\">\n",
       "      <th></th>\n",
       "      <th>host_id</th>\n",
       "      <th>host_name</th>\n",
       "      <th>host_since</th>\n",
       "      <th>host_location</th>\n",
       "      <th>host_response_time</th>\n",
       "      <th>host_response_rate</th>\n",
       "      <th>host_acceptance_rate</th>\n",
       "      <th>host_is_superhost</th>\n",
       "      <th>host_listings_count</th>\n",
       "      <th>host_identity_verified</th>\n",
       "      <th>...</th>\n",
       "      <th>reviews_per_month</th>\n",
       "      <th>review_scores_rating</th>\n",
       "      <th>review_scores_cleanliness</th>\n",
       "      <th>review_scores_communication</th>\n",
       "      <th>first_review</th>\n",
       "      <th>last_review</th>\n",
       "      <th>room_type_Hotel room</th>\n",
       "      <th>room_type_Private room</th>\n",
       "      <th>room_type_Shared room</th>\n",
       "      <th>amenities_count</th>\n",
       "    </tr>\n",
       "  </thead>\n",
       "  <tbody>\n",
       "    <tr>\n",
       "      <th>0</th>\n",
       "      <td>62165</td>\n",
       "      <td>Michael</td>\n",
       "      <td>2009-12-11</td>\n",
       "      <td>New York, NY</td>\n",
       "      <td>NaN</td>\n",
       "      <td>NaN</td>\n",
       "      <td>NaN</td>\n",
       "      <td>f</td>\n",
       "      <td>1.0</td>\n",
       "      <td>t</td>\n",
       "      <td>...</td>\n",
       "      <td>0.05</td>\n",
       "      <td>4.88</td>\n",
       "      <td>4.80</td>\n",
       "      <td>5.00</td>\n",
       "      <td>2010-12-11</td>\n",
       "      <td>2013-05-10</td>\n",
       "      <td>False</td>\n",
       "      <td>True</td>\n",
       "      <td>False</td>\n",
       "      <td>7</td>\n",
       "    </tr>\n",
       "    <tr>\n",
       "      <th>1</th>\n",
       "      <td>157798</td>\n",
       "      <td>Irene</td>\n",
       "      <td>2010-07-04</td>\n",
       "      <td>New York, NY</td>\n",
       "      <td>NaN</td>\n",
       "      <td>NaN</td>\n",
       "      <td>100%</td>\n",
       "      <td>f</td>\n",
       "      <td>1.0</td>\n",
       "      <td>t</td>\n",
       "      <td>...</td>\n",
       "      <td>0.58</td>\n",
       "      <td>4.77</td>\n",
       "      <td>4.76</td>\n",
       "      <td>4.90</td>\n",
       "      <td>2010-10-04</td>\n",
       "      <td>2023-12-09</td>\n",
       "      <td>False</td>\n",
       "      <td>True</td>\n",
       "      <td>False</td>\n",
       "      <td>32</td>\n",
       "    </tr>\n",
       "    <tr>\n",
       "      <th>2</th>\n",
       "      <td>165789</td>\n",
       "      <td>Sarah</td>\n",
       "      <td>2010-07-13</td>\n",
       "      <td>New York, NY</td>\n",
       "      <td>within a few hours</td>\n",
       "      <td>100%</td>\n",
       "      <td>40%</td>\n",
       "      <td>f</td>\n",
       "      <td>1.0</td>\n",
       "      <td>t</td>\n",
       "      <td>...</td>\n",
       "      <td>0.28</td>\n",
       "      <td>4.70</td>\n",
       "      <td>4.52</td>\n",
       "      <td>4.88</td>\n",
       "      <td>2012-07-09</td>\n",
       "      <td>2023-08-30</td>\n",
       "      <td>False</td>\n",
       "      <td>True</td>\n",
       "      <td>False</td>\n",
       "      <td>68</td>\n",
       "    </tr>\n",
       "  </tbody>\n",
       "</table>\n",
       "<p>3 rows × 37 columns</p>\n",
       "</div>"
      ],
      "text/plain": [
       "   host_id host_name  host_since host_location  host_response_time  \\\n",
       "0    62165   Michael  2009-12-11  New York, NY                 NaN   \n",
       "1   157798     Irene  2010-07-04  New York, NY                 NaN   \n",
       "2   165789     Sarah  2010-07-13  New York, NY  within a few hours   \n",
       "\n",
       "  host_response_rate host_acceptance_rate host_is_superhost  \\\n",
       "0                NaN                  NaN                 f   \n",
       "1                NaN                 100%                 f   \n",
       "2               100%                  40%                 f   \n",
       "\n",
       "   host_listings_count host_identity_verified  ... reviews_per_month  \\\n",
       "0                  1.0                      t  ...              0.05   \n",
       "1                  1.0                      t  ...              0.58   \n",
       "2                  1.0                      t  ...              0.28   \n",
       "\n",
       "  review_scores_rating  review_scores_cleanliness  \\\n",
       "0                 4.88                       4.80   \n",
       "1                 4.77                       4.76   \n",
       "2                 4.70                       4.52   \n",
       "\n",
       "   review_scores_communication first_review last_review  room_type_Hotel room  \\\n",
       "0                         5.00   2010-12-11  2013-05-10                 False   \n",
       "1                         4.90   2010-10-04  2023-12-09                 False   \n",
       "2                         4.88   2012-07-09  2023-08-30                 False   \n",
       "\n",
       "   room_type_Private room  room_type_Shared room  amenities_count  \n",
       "0                    True                  False                7  \n",
       "1                    True                  False               32  \n",
       "2                    True                  False               68  \n",
       "\n",
       "[3 rows x 37 columns]"
      ]
     },
     "execution_count": 186,
     "metadata": {},
     "output_type": "execute_result"
    }
   ],
   "source": [
    "#ast.literal_eval() 문자열로 된 리시트, 딕셔너리, 숫자, 튜플 등을 실제 파이썬 객체로 안전하게 변환하고 싶을 때 사용\n",
    "#ast : abstract syntax tree 모듈 -> 파이썬 코드 자체를 문법구조로 분석하는 내장 모듈\n",
    "#literal_eval : 문자 그대로 평가하는 뜻\n",
    "#문법을 보고 문자 그대로 평가해서 객체로 바꿔\n",
    "#apply 각 행에 대해 람다 함수를 적용해\n",
    "import ast\n",
    "\n",
    "df['amenities_count'] = df['amenities'].apply(lambda x : len(ast.literal_eval(x))) \n",
    "df.head(3)"
   ]
  },
  {
   "cell_type": "code",
   "execution_count": 207,
   "id": "44d6bd87",
   "metadata": {},
   "outputs": [
    {
     "data": {
      "image/png": "[encoded data removed]",
      "text/plain": [
       "<Figure size 1000x200 with 1 Axes>"
      ]
     },
     "metadata": {},
     "output_type": "display_data"
    }
   ],
   "source": [
    "plt.figure(figsize=(10, 2))\n",
    "plt.hist(df['amenities_count'], bins=10)\n",
    "plt.xlabel('어메니티 개수')\n",
    "plt.ylabel('숙소')\n",
    "plt.title('어메니티에 따른 숙소 분포')\n",
    "plt.show()"
   ]
  },
  {
   "cell_type": "code",
   "execution_count": 211,
   "id": "fd41632d",
   "metadata": {},
   "outputs": [
    {
     "data": {
      "text/plain": [
       "<Axes: xlabel='amenities_count', ylabel='price'>"
      ]
     },
     "execution_count": 211,
     "metadata": {},
     "output_type": "execute_result"
    },
    {
     "data": {
      "image/png": "[encoded data removed]",
      "text/plain": [
       "<Figure size 640x480 with 1 Axes>"
      ]
     },
     "metadata": {},
     "output_type": "display_data"
    }
   ],
   "source": [
    "sns.scatterplot(x='amenities_count', y='price', data=df)\n"
   ]
  },
  {
   "cell_type": "code",
   "execution_count": 210,
   "id": "2c6d7da5",
   "metadata": {},
   "outputs": [
    {
     "name": "stderr",
     "output_type": "stream",
     "text": [
      "<>:1: SyntaxWarning: invalid escape sequence '\\$'\n",
      "<>:1: SyntaxWarning: invalid escape sequence '\\$'\n",
      "C:\\Users\\Public\\Documents\\ESTsoft\\CreatorTemp\\ipykernel_7332\\3925776730.py:1: SyntaxWarning: invalid escape sequence '\\$'\n",
      "  df['pirce'] = df['price'].replace('[\\$,]', '', regex=True).astype(float)\n"
     ]
    }
   ],
   "source": [
    "df['pirce'] = df['price'].replace('[\\$,]', '', regex=True).astype(float)"
   ]
  },
  {
   "cell_type": "markdown",
   "id": "b676a02e",
   "metadata": {},
   "source": [
    "숙소유형과 가격의 관계 \n",
    "상관계수로 알아보기\n",
    "\n",
    "- 수치형 변수 : accommodates, bedrooms, bathrooms, beds, amenites_count\n",
    "- 범주형 변수 : room_type\n",
    "- 타겟 변수 : price "
   ]
  },
  {
   "cell_type": "code",
   "execution_count": 219,
   "id": "44773b94",
   "metadata": {},
   "outputs": [
    {
     "data": {
      "image/png": "[encoded data removed]",
      "text/plain": [
       "<Figure size 800x600 with 2 Axes>"
      ]
     },
     "metadata": {},
     "output_type": "display_data"
    }
   ],
   "source": [
    "#어메니티와 가격의 상관관계 게수 \n",
    "numerical_var = ['accommodates', 'bedrooms', 'beds', 'bathrooms', 'amenities_count', 'price']\n",
    "corr = df[numerical_var].corr()\n",
    "\n",
    "#히트맵으로 시각화\n",
    "plt.figure(figsize=(8, 6))\n",
    "sns.heatmap(corr, annot=True, cmap='coolwarm', fmt=\".2f\", square=True )\n",
    "plt.title(\"숙소관련 변수와 가격의 상관계수 히트맵\")\n",
    "plt.show()"
   ]
  }
 ],
 "metadata": {
  "kernelspec": {
   "display_name": "venv",
   "language": "python",
   "name": "python3"
  },
  "language_info": {
   "codemirror_mode": {
    "name": "ipython",
    "version": 3
   },
   "file_extension": ".py",
   "mimetype": "text/x-python",
   "name": "python",
   "nbconvert_exporter": "python",
   "pygments_lexer": "ipython3",
   "version": "3.13.4"
  }
 },
 "nbformat": 4,
 "nbformat_minor": 5
}
